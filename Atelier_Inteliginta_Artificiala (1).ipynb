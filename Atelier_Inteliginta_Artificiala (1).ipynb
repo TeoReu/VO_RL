{
  "nbformat": 4,
  "nbformat_minor": 0,
  "metadata": {
    "colab": {
      "provenance": [],
      "toc_visible": true
    },
    "kernelspec": {
      "name": "python3",
      "display_name": "Python 3"
    },
    "language_info": {
      "name": "python"
    }
  },
  "cells": [
    {
      "cell_type": "markdown",
      "source": [
        "### Vă rugăm să introduceți numele dumneavoastră\n",
        "#Nume: Paula Popescu\n",
        "#Nivel: Avansat/Incepator"
      ],
      "metadata": {
        "id": "03k5DoEhr0Gt"
      }
    },
    {
      "cell_type": "markdown",
      "source": [
        "# Laborator: Jocul X și 0 cu Inteligență Artificială\n",
        "\n",
        "În acest laborator, vom crea un joc clasic de **X și 0** (sau \"Tic-Tac-Toe\") folosind Python și Google Colab. Mai mult decât atât, vom învăța cum să implementăm o strategie de **inteligență artificială (AI)** care va juca împotriva noastră folosind algoritmul **Minimax**.\n",
        "\n",
        "### Ce veți învăța?\n",
        "- Cum să desenăm tabla de joc.\n",
        "- Cum să verificăm mutările și să stabilim câștigătorul.\n",
        "- Ce este algoritmul **Minimax** și cum ajută AI-ul să ia decizii optime.\n",
        "- Cum funcționează AI-ul într-un joc simplu și cum ia decizii mai bune decât un jucător uman.\n",
        "\n"
      ],
      "metadata": {
        "id": "TEqk4mcEhljs"
      }
    },
    {
      "cell_type": "markdown",
      "source": [
        "\n",
        "## **Partea 1** - Intrebări teoretice:\n",
        "In aceasta parte vom raspunde la 6 intrebari teoretice.\n"
      ],
      "metadata": {
        "id": "OMDb2DxVHTdT"
      }
    },
    {
      "cell_type": "markdown",
      "source": [
        "Rezolva urmatoarele probleme.\n",
        "\n",
        "### ✏️ **Problema 1:**\n",
        "Cte configurații de table de joc pot exista într-un joc de **X și 0** pe o tablă **3x3** după ce ambii jucători au făcut **câte o mutare**? (pe tablă se află doar un X și un 0).\n",
        "\n",
        "---\n",
        "\n",
        "### ✏️ **Problema 2:**\n",
        "Câte configurații de table de joc pot exista într-un joc de **X și 0** pe o tablă **nxn** după ce ambii jucători au făcut **câte două mutări**? (pe tablă se află doar două X-uri și două 0-uri).\n",
        "\n",
        "---\n",
        "\n",
        "### ✏️ **Problema 3:**\n",
        "Aproximativ câte poziții posibile de table de joc pot exista într-un joc de **X și 0** pe o tablă **nxn**?\n",
        "\n",
        "---\n",
        "\n",
        "### ✏️ **Problema 4:**\n",
        "Să presupunem că dispunem de o memorie de 16 GB (16 × 1024^3 bytes). O tablă de joc, reprezentată ca o matrice **nxn**, ocupă **n × n × 8 bytes**. Câte astfel de matrice de joc putem stoca în memorie? Aproximativ care este cea mai mare dimensiune a tablei pentru care putem salva toate pozițiile posibile (bazat pe răspunsul de la **problema 3**)?\n",
        "\n",
        "---\n",
        "\n",
        "### ✏️ **Problema 5:**\n",
        "Există moduri de a evita stocarea unui număr așa de mare de vectori bi-dimensionali **nxn**? (Hint: folosind o structură de date diferită)\n",
        "\n",
        "---\n",
        "\n",
        "### ✏️ **Problema 6:**\n",
        "Dacă analizarea a 100 de poziții durează o secundă, aproximativ câte secunde va lua analizarea tuturor pozițiilor de pe o tablă **6x6**?"
      ],
      "metadata": {
        "id": "jDRdzyXLgvFK"
      }
    },
    {
      "cell_type": "markdown",
      "source": [
        "✏️ **Problema 1:** Solutia ta aici!\n",
        "\n",
        "✏️ **Problema 2:** Solutia ta aici!\n",
        "\n",
        "✏️ **Problema 3:** Solutia ta aici!\n",
        "\n",
        "✏️ **Problema 4:** Solutia ta aici!\n",
        "\n",
        "✏️ **Problema 5:** Solutia ta aici!\n",
        "\n",
        "✏️ **Problema 6:** Solutia ta aici!"
      ],
      "metadata": {
        "id": "UGqtxvJcPMQj"
      }
    },
    {
      "cell_type": "markdown",
      "source": [
        "## **Partea 2** - X și 0 pe o tablă 3 x 3:\n",
        "\n",
        "In aceasta parte vom vedea o implementare a algoritmului minimax pe o tabla 3x3."
      ],
      "metadata": {
        "id": "CbLPjxvwGfkA"
      }
    },
    {
      "cell_type": "code",
      "source": [
        "#@title Importarea bibliotecilor necesare\n",
        "import matplotlib.pyplot as plt\n",
        "import numpy as np"
      ],
      "metadata": {
        "id": "fD8XEVIiuS32",
        "cellView": "form"
      },
      "execution_count": 11,
      "outputs": []
    },
    {
      "cell_type": "code",
      "source": [
        "#@title Desenarea tablei de joc\n",
        "\n",
        "def print_board(board):\n",
        "    fig, ax = plt.subplots(figsize=(6, 6))  # Creăm o figură de 6x6 pentru tabla de joc.\n",
        "\n",
        "    # Desenăm grila de joc (liniile orizontale și verticale).\n",
        "    ax.set_xticks(np.arange(0, 3, 1))\n",
        "    ax.set_yticks(np.arange(0, 3, 1))\n",
        "    ax.grid(True, color='black', linewidth=2)  # Setăm liniile grilei să fie negre și groase.\n",
        "\n",
        "    # Ascundem marcajele și etichetele axelor.\n",
        "    ax.tick_params(left=False, bottom=False, labelleft=False, labelbottom=False)\n",
        "\n",
        "    # Setăm fundalul să fie alb.\n",
        "    ax.set_facecolor('white')\n",
        "\n",
        "    # Afișăm X-urile și O-urile pe tabla de joc.\n",
        "    for i in range(3):\n",
        "        for j in range(3):\n",
        "            if board[i][j] == \"X\":\n",
        "                ax.text(j + 0.5, i + 0.5, \"X\", ha='center', va='center', fontsize=50, color=\"red\", weight='bold')\n",
        "            elif board[i][j] == \"O\":\n",
        "                ax.text(j + 0.5, i + 0.5, \"O\", ha='center', va='center', fontsize=50, color=\"blue\", weight='bold')\n",
        "\n",
        "    # Stabilim limitele grilei.\n",
        "    ax.set_xlim(0, 3)\n",
        "    ax.set_ylim(0, 3)\n",
        "    plt.gca().invert_yaxis()  # Inversăm axa y pentru a corespunde cu coordonatele matricei.\n",
        "\n",
        "    # Afișăm tabla de joc.\n",
        "    plt.show()\n"
      ],
      "metadata": {
        "id": "6iK977nRuZNp",
        "cellView": "form"
      },
      "execution_count": 12,
      "outputs": []
    },
    {
      "cell_type": "code",
      "source": [
        "#@title Implementare Reguli\n",
        "\n",
        "def is_valid_move(board, row, col):\n",
        "    return board[row][col] == \" \"\n",
        "\n",
        "def make_move(board, row, col, player):\n",
        "    if is_valid_move(board, row, col):\n",
        "        board[row][col] = player  # Setăm locul respectiv cu simbolul jucătorului.\n",
        "        return True\n",
        "    return False\n",
        "\n",
        "def check_win(board, player):\n",
        "    # Verificăm liniile\n",
        "    for row in board:\n",
        "        if all([cell == player for cell in row]):\n",
        "            return True\n",
        "\n",
        "    # Verificăm coloanele\n",
        "    for col in range(3):\n",
        "        if all([board[row][col] == player for row in range(3)]):\n",
        "            return True\n",
        "\n",
        "    # Verificăm diagonalele\n",
        "    if all([board[i][i] == player for i in range(3)]) or all([board[i][2 - i] == player for i in range(3)]):\n",
        "        return True\n",
        "\n",
        "    return False\n",
        "\n",
        "def is_draw(board):\n",
        "    return all([cell != \" \" for row in board for cell in row])\n"
      ],
      "metadata": {
        "cellView": "form",
        "id": "bb3BMGr6xOyO"
      },
      "execution_count": 13,
      "outputs": []
    },
    {
      "cell_type": "code",
      "source": [
        "#@title Implementare Minmax\n",
        "\n",
        "def minimax(board, depth, is_maximizing):\n",
        "    if check_win(board, \"X\"):\n",
        "        return -1  # Jucătorul X câștigă, deci scor negativ pentru AI.\n",
        "    if check_win(board, \"O\"):\n",
        "        return 1  # AI câștigă, deci scor pozitiv.\n",
        "    if is_draw(board):\n",
        "        return 0  # Egalitate.\n",
        "\n",
        "    if is_maximizing:\n",
        "        best_score = -float(\"inf\")\n",
        "        for row in range(3):\n",
        "            for col in range(3):\n",
        "                if board[row][col] == \" \":\n",
        "                    board[row][col] = \"O\"  # AI face mutarea.\n",
        "                    score = minimax(board, depth + 1, False)\n",
        "                    board[row][col] = \" \"\n",
        "                    best_score = max(score, best_score)\n",
        "        return best_score\n",
        "    else:\n",
        "        best_score = float(\"inf\")\n",
        "        for row in range(3):\n",
        "            for col in range(3):\n",
        "                if board[row][col] == \" \":\n",
        "                    board[row][col] = \"X\"  # Jucătorul face mutarea.\n",
        "                    score = minimax(board, depth + 1, True)\n",
        "                    board[row][col] = \" \"\n",
        "                    best_score = min(score, best_score)\n",
        "        return best_score\n",
        "\n",
        "def find_best_move(board):\n",
        "    best_move = None\n",
        "    best_score = -float(\"inf\")\n",
        "    for row in range(3):\n",
        "        for col in range(3):\n",
        "            if board[row][col] == \" \":\n",
        "                board[row][col] = \"O\"\n",
        "                score = minimax(board, 0, False)\n",
        "                board[row][col] = \" \"\n",
        "                if score > best_score:\n",
        "                    best_score = score\n",
        "                    best_move = (row, col)\n",
        "    return best_move\n"
      ],
      "metadata": {
        "id": "btbmgdRYgWeu"
      },
      "execution_count": 14,
      "outputs": []
    },
    {
      "cell_type": "code",
      "source": [
        "# @title Simulare joc\n",
        "\n",
        "board = [[\" \", \" \", \" \"],\n",
        "         [\" \", \" \", \" \"],\n",
        "         [\" \", \" \", \" \"]]\n",
        "\n",
        "while True:\n",
        "    print_board(board)  # Afișează tabla de joc\n",
        "\n",
        "    if check_win(board, \"X\"):  # Verifică dacă jucătorul X a câștigat\n",
        "        print(\"X a câștigat!\")\n",
        "        break\n",
        "    if check_win(board, \"O\"):  # Verifică dacă AI-ul (O) a câștigat\n",
        "        print(\"O a câștigat!\")\n",
        "        break\n",
        "    if is_draw(board):  # Verifică dacă jocul s-a terminat la egalitate\n",
        "        print(\"Este o remiză!\")\n",
        "        break\n",
        "\n",
        "    # Rândul jucătorului\n",
        "    while True:\n",
        "        try:\n",
        "            # Solicită mutarea jucătorului (rând și coloană, separate prin spațiu)\n",
        "            row, col = map(int, input(\"Introduceți mutarea dvs. (rând și coloană, separate prin spațiu): \").split())\n",
        "            if 0 <= row < 3 and 0 <= col < 3:  # Verifică dacă mutarea este în limitele tablei\n",
        "                if make_move(board, row, col, \"X\"):  # Efectuează mutarea pentru jucătorul X\n",
        "                    break\n",
        "                else:\n",
        "                    print(\"Acest loc este deja ocupat. Încercați din nou.\")\n",
        "            else:\n",
        "                print(\"Intrare invalidă. Introduceți numerele rândului și coloanei între 0 și 2.\")\n",
        "        except ValueError:\n",
        "            print(\"Intrare invalidă. Vă rugăm să introduceți două numere întregi separate prin spațiu.\")\n",
        "\n",
        "    # Rândul AI-ului\n",
        "    ai_move = find_best_move(board)  # AI-ul alege cea mai bună mutare\n",
        "    if ai_move:\n",
        "        make_move(board, ai_move[0], ai_move[1], \"O\")  # AI-ul face mutarea pentru O\n"
      ],
      "metadata": {
        "colab": {
          "base_uri": "https://localhost:8080/",
          "height": 1000
        },
        "cellView": "form",
        "id": "Gbri6nFfhFbz",
        "outputId": "bf5d2b6b-ed5a-45d5-fabb-4e1203aeec41",
        "collapsed": true
      },
      "execution_count": 15,
      "outputs": [
        {
          "output_type": "display_data",
          "data": {
            "text/plain": [
              "<Figure size 600x600 with 1 Axes>"
            ],
            "image/png": "[encoded data removed]"
          },
          "metadata": {}
        },
        {
          "name": "stdout",
          "output_type": "stream",
          "text": [
            "Introduceți mutarea dvs. (rând și coloană, separate prin spațiu): 1 1\n"
          ]
        },
        {
          "output_type": "display_data",
          "data": {
            "text/plain": [
              "<Figure size 600x600 with 1 Axes>"
            ],
            "image/png": "[encoded data removed]"
          },
          "metadata": {}
        },
        {
          "name": "stdout",
          "output_type": "stream",
          "text": [
            "Introduceți mutarea dvs. (rând și coloană, separate prin spațiu): 2 2\n"
          ]
        },
        {
          "output_type": "display_data",
          "data": {
            "text/plain": [
              "<Figure size 600x600 with 1 Axes>"
            ],
            "image/png": "[encoded data removed]"
          },
          "metadata": {}
        },
        {
          "name": "stdout",
          "output_type": "stream",
          "text": [
            "Introduceți mutarea dvs. (rând și coloană, separate prin spațiu): 0 1\n"
          ]
        },
        {
          "output_type": "display_data",
          "data": {
            "text/plain": [
              "<Figure size 600x600 with 1 Axes>"
            ],
            "image/png": "[encoded data removed]"
          },
          "metadata": {}
        },
        {
          "name": "stdout",
          "output_type": "stream",
          "text": [
            "Introduceți mutarea dvs. (rând și coloană, separate prin spațiu): 1 0\n"
          ]
        },
        {
          "output_type": "display_data",
          "data": {
            "text/plain": [
              "<Figure size 600x600 with 1 Axes>"
            ],
            "image/png": "[encoded data removed]"
          },
          "metadata": {}
        },
        {
          "name": "stdout",
          "output_type": "stream",
          "text": [
            "Introduceți mutarea dvs. (rând și coloană, separate prin spațiu): 0 2\n",
            "Acest loc este deja ocupat. Încercați din nou.\n",
            "Introduceți mutarea dvs. (rând și coloană, separate prin spațiu): 2 0\n"
          ]
        },
        {
          "output_type": "display_data",
          "data": {
            "text/plain": [
              "<Figure size 600x600 with 1 Axes>"
            ],
            "image/png": "[encoded data removed]"
          },
          "metadata": {}
        },
        {
          "output_type": "stream",
          "name": "stdout",
          "text": [
            "Este o remiză!\n"
          ]
        }
      ]
    },
    {
      "cell_type": "markdown",
      "source": [
        "## **Partea 3** - X și 0 pe o tablă 6x6:\n",
        "\n",
        "În Partea 1 am observat că, pentru table de joc foarte mari, spațiul necesar pentru a explora toate posibilitățile jocului până la final crește exponențial. De această dată, schimbăm și regula de câștig: un jucător trebuie să alinieze **4 simboluri consecutive** (fie pe diagonală, fie pe linie, fie pe coloană) pentru a câștiga.\n",
        "\n",
        "Pe o tablă de **6x6**, algoritmul Minimax ar putea să nu fie capabil să analizeze toate finalurile posibile pentru a alege cea mai bună mutare. În acest context, este necesar să **limităm adâncimea căutării**, de exemplu la **2 niveluri**, și să folosim o **funcție de evaluare** pentru pozițiile care nu sunt terminale.\n",
        "\n",
        "În această parte a laboratorului vei:\n",
        "- **Implementa** propria ta funcție `minimax` pentru o tablă de 6x6 (**Problema 7**).\n",
        "\n",
        "- **Prezenta Idei pentru Funcții Heuristice** Pentru a îmbunătăți performanța algoritmului tău, este important să definești funcții heuristice care să evalueze pozițiile non-terminal ale tablei de joc. Aceste funcții vor ajuta algoritmul să decidă care poziții sunt mai bune decât altele, chiar și atunci când adâncimea de căutare este limitată. (**Problema 8**)\n",
        "\n",
        "- **Implementa** o funcție de evaluare heuristică numită `analizeaza_tabla(board, is_maximizing)` astfel încât algoritmul tău AI să fie mai inteligent (**Problema 9**).\n"
      ],
      "metadata": {
        "id": "qIgMXNxDpKI5"
      }
    },
    {
      "cell_type": "code",
      "source": [
        "#@title Logica pentru tabla 6x6: afisarea tablei, verificare conditii castig si remiza\n",
        "def print_board(board):\n",
        "    fig, ax = plt.subplots(figsize=(6, 6))  # Creăm o figură de 6x6 pentru tabla de joc.\n",
        "\n",
        "    # Desenăm grila de joc (liniile orizontale și verticale).\n",
        "    ax.set_xticks(np.arange(0, 6, 1))\n",
        "    ax.set_yticks(np.arange(0, 6, 1))\n",
        "    ax.grid(True, color='black', linewidth=2)  # Setăm liniile grilei să fie negre și groase.\n",
        "\n",
        "    # Ascundem marcajele și etichetele axelor.\n",
        "    ax.tick_params(left=False, bottom=False, labelleft=False, labelbottom=False)\n",
        "\n",
        "    # Setăm fundalul să fie alb.\n",
        "    ax.set_facecolor('white')\n",
        "\n",
        "    # Afișăm X-urile și O-urile pe tabla de joc.\n",
        "    for i in range(6):\n",
        "        for j in range(6):\n",
        "            if board[i][j] == \"X\":\n",
        "                ax.text(j + 0.5, i + 0.5, \"X\", ha='center', va='center', fontsize=50, color=\"red\", weight='bold')\n",
        "            elif board[i][j] == \"O\":\n",
        "                ax.text(j + 0.5, i + 0.5, \"O\", ha='center', va='center', fontsize=50, color=\"blue\", weight='bold')\n",
        "\n",
        "    # Stabilim limitele grilei.\n",
        "    ax.set_xlim(0, 6)\n",
        "    ax.set_ylim(0, 6)\n",
        "    plt.gca().invert_yaxis()  # Inversăm axa y pentru a corespunde cu coordonatele matricei.\n",
        "\n",
        "    # Afișăm tabla de joc.\n",
        "    plt.show()\n",
        "\n",
        "\n",
        "\n",
        "def check_win(board, player):\n",
        "    n = len(board)  # Dimensiunea tablei (în acest caz, 6)\n",
        "    win_condition = 4  # Numărul de simboluri consecutive necesare pentru a câștiga\n",
        "\n",
        "    # Verificăm liniile\n",
        "    for row in range(n):\n",
        "        for col in range(n - win_condition + 1):\n",
        "            if all([board[row][col + i] == player for i in range(win_condition)]):\n",
        "                return True\n",
        "\n",
        "    # Verificăm coloanele\n",
        "    for col in range(n):\n",
        "        for row in range(n - win_condition + 1):\n",
        "            if all([board[row + i][col] == player for i in range(win_condition)]):\n",
        "                return True\n",
        "\n",
        "    # Verificăm diagonalele (din stânga sus spre dreapta jos)\n",
        "    for row in range(n - win_condition + 1):\n",
        "        for col in range(n - win_condition + 1):\n",
        "            if all([board[row + i][col + i] == player for i in range(win_condition)]):\n",
        "                return True\n",
        "\n",
        "    # Verificăm diagonalele (din dreapta sus spre stânga jos)\n",
        "    for row in range(n - win_condition + 1):\n",
        "        for col in range(win_condition - 1, n):\n",
        "            if all([board[row + i][col - i] == player for i in range(win_condition)]):\n",
        "                return True\n",
        "\n",
        "    return False\n",
        "\n",
        "def is_draw(board):\n",
        "    # Verifică dacă toate pozițiile sunt ocupate\n",
        "    return all([cell != \" \" for row in board for cell in row])\n"
      ],
      "metadata": {
        "id": "uTtnIYzCjtdV",
        "cellView": "form"
      },
      "execution_count": 19,
      "outputs": []
    },
    {
      "cell_type": "markdown",
      "source": [
        "### ✏️ **Problema 7:**\n",
        "Codul de mai jos reprezintă o funcție `minimax`, dar aceasta conține câteva greșeli. Corectează aceste greșeli, bazându-te pe exemplul corect de implementare a algoritmului `minimax` prezentat în Partea a doua.\n",
        "\n",
        "Pentru a corecta funcția:\n",
        "\n",
        "- **Asigură-te că algoritmul respectă regulile clasice de `minimax`**: Algoritmul trebuie să maximizeze scorul pentru jucătorul curent și să minimizeze scorul pentru adversar.\n",
        "\n",
        "- **Corectează posibilele erori legate de recursivitate și gestionarea adâncimii limitate**: Asigură-te că adâncimea căutării este gestionată corect și că funcția `minimax` este apelată corespunzător pentru fiecare mutare.\n",
        "\n",
        "- **Alte erori**: Asigură-te că dimensiunea tablei de joc este cea corecta, indicii tablei la care verificam anumite caracteristici sunt cei buni."
      ],
      "metadata": {
        "id": "Em7NyqumX5o0"
      }
    },
    {
      "cell_type": "code",
      "source": [
        "#@title ✏️ Implementare Minmax pe tabla 6x6\n",
        "import math\n",
        "\n",
        "# NU SCHIMBA NIMIC IN ACEASTA SECTIUNE\n",
        "def analizeaza_tabla_0(board, is_maximizing):\n",
        "  return 0\n",
        "\n",
        "def minimax_6x6(board, depth, is_maximizing, analizeaza_tabla):\n",
        "    if check_win(board, \"X\"):\n",
        "        return -10000  # Jucătorul X câștigă, deci scor negativ pentru AI.\n",
        "    if check_win(board, \"O\"):\n",
        "        return 10000  # AI câștigă, deci scor pozitiv.\n",
        "    if is_draw(board):\n",
        "        return 0  # Egalitate.\n",
        "    if depth > 2:\n",
        "        return analizeaza_tabla(board, is_maximizing)\n",
        "# NU SCHIMBA NIMIC IN ACEASTA SECTIUNE\n",
        "\n",
        "# REPARA GRESELI DIN ACEST INTERVAL\n",
        "    if is_maximizing:\n",
        "        best_score = -float(\"inf\")\n",
        "        for row in range(8):\n",
        "            for col in range(8):\n",
        "                if board[row][col] == \" \":\n",
        "                    board[row][col] = \"O\"  # AI face mutarea.\n",
        "                    score = minimax_6x6(board, depth - 1, False, analizeaza_tabla)\n",
        "                    board[row][col-1] = \" \"\n",
        "                    best_score = min(score, best_score)\n",
        "        return best_score\n",
        "    else:\n",
        "        best_score = float(\"inf\")\n",
        "        for row in range(6):\n",
        "            for col in range(6):\n",
        "                if board[row][col] == \" \":\n",
        "                    board[row][col] = \"X\"  # Jucătorul face mutarea.\n",
        "                    score = minimax_6x6(board, depth + 1, True, analizeaza_tabla)\n",
        "                    board[row][col] = \" \"\n",
        "                    best_score = min(score, best_score)\n",
        "        return best_score\n",
        "# REPARA GRESELI DIN ACEST INTERVAL\n",
        "\n",
        "\n",
        "\n",
        "# NU SCHIMBA NIMIC IN ACEASTA SECTIUNE\n",
        "def find_best_move(board, analizeaza_tabla):\n",
        "    best_move = None\n",
        "    best_score = -float(\"inf\")\n",
        "    for row in range(6):\n",
        "        for col in range(6):\n",
        "            if board[row][col] == \" \":\n",
        "                board[row][col] = \"O\"\n",
        "                score = minimax_6x6(board, 0, False, analizeaza_tabla)\n",
        "                board[row][col] = \" \"\n",
        "                if score > best_score:\n",
        "                    best_score = score\n",
        "                    best_move = (row, col)\n",
        "    return best_move\n",
        "# NU SCHIMBA NIMIC IN ACEASTA SECTIUNE"
      ],
      "metadata": {
        "id": "z2qVbwoMxt2c",
        "cellView": "form"
      },
      "execution_count": 25,
      "outputs": []
    },
    {
      "cell_type": "code",
      "source": [
        "#@title Simulare joc\n",
        "\n",
        "board = [[\" \" for _ in range(6)] for _ in range(6)]\n",
        "\n",
        "\n",
        "while True:\n",
        "    print_board(board)  # Afișează tabla de joc\n",
        "\n",
        "    if check_win(board, \"X\"):  # Verifică dacă jucătorul X a câștigat\n",
        "        print(\"X a câștigat!\")\n",
        "        break\n",
        "    if check_win(board, \"O\"):  # Verifică dacă AI-ul (O) a câștigat\n",
        "        print(\"O a câștigat!\")\n",
        "        break\n",
        "    if is_draw(board):  # Verifică dacă jocul s-a terminat la egalitate\n",
        "        print(\"Este o remiză!\")\n",
        "        break\n",
        "\n",
        "    # Rândul jucătorului\n",
        "    while True:\n",
        "        try:\n",
        "            # Solicită mutarea jucătorului (rând și coloană, separate prin spațiu)\n",
        "            row, col = map(int, input(\"Introduceți mutarea dvs. (rând și coloană, separate prin spațiu): \").split())\n",
        "            if 0 <= row < 6 and 0 <= col < 6:  # Verifică dacă mutarea este în limitele tablei\n",
        "                if make_move(board, row, col, \"X\"):  # Efectuează mutarea pentru jucătorul X\n",
        "                    break\n",
        "                else:\n",
        "                    print(\"Acest loc este deja ocupat. Încercați din nou.\")\n",
        "            else:\n",
        "                print(\"Intrare invalidă. Introduceți numerele rândului și coloanei între 0 și 2.\")\n",
        "        except ValueError:\n",
        "            print(\"Intrare invalidă. Vă rugăm să introduceți două numere întregi separate prin spațiu.\")\n",
        "\n",
        "    # Rândul AI-ului\n",
        "    ai_move = find_best_move(board, analizeaza_tabla_0)  # AI-ul alege cea mai bună mutare\n",
        "    if ai_move:\n",
        "        make_move(board, ai_move[0], ai_move[1], \"O\")  # AI-ul face mutarea pentru O"
      ],
      "metadata": {
        "colab": {
          "base_uri": "https://localhost:8080/",
          "height": 855
        },
        "id": "YIAjJrKYx8Q9",
        "outputId": "c1c3e184-8bcb-4613-b748-dde2f3b06381",
        "collapsed": true,
        "cellView": "form"
      },
      "execution_count": 26,
      "outputs": [
        {
          "output_type": "display_data",
          "data": {
            "text/plain": [
              "<Figure size 600x600 with 1 Axes>"
            ],
            "image/png": "[encoded data removed]"
          },
          "metadata": {}
        },
        {
          "name": "stdout",
          "output_type": "stream",
          "text": [
            "Introduceți mutarea dvs. (rând și coloană, separate prin spațiu): 3 3\n"
          ]
        },
        {
          "output_type": "error",
          "ename": "IndexError",
          "evalue": "list index out of range",
          "traceback": [
            "\u001b[0;31m---------------------------------------------------------------------------\u001b[0m",
            "\u001b[0;31mIndexError\u001b[0m                                Traceback (most recent call last)",
            "\u001b[0;32m<ipython-input-26-703d706f0609>\u001b[0m in \u001b[0;36m<cell line: 6>\u001b[0;34m()\u001b[0m\n\u001b[1;32m     33\u001b[0m \u001b[0;34m\u001b[0m\u001b[0m\n\u001b[1;32m     34\u001b[0m     \u001b[0;31m# Rândul AI-ului\u001b[0m\u001b[0;34m\u001b[0m\u001b[0;34m\u001b[0m\u001b[0m\n\u001b[0;32m---> 35\u001b[0;31m     \u001b[0mai_move\u001b[0m \u001b[0;34m=\u001b[0m \u001b[0mfind_best_move\u001b[0m\u001b[0;34m(\u001b[0m\u001b[0mboard\u001b[0m\u001b[0;34m,\u001b[0m \u001b[0manalizeaza_tabla_0\u001b[0m\u001b[0;34m)\u001b[0m  \u001b[0;31m# AI-ul alege cea mai bună mutare\u001b[0m\u001b[0;34m\u001b[0m\u001b[0;34m\u001b[0m\u001b[0m\n\u001b[0m\u001b[1;32m     36\u001b[0m     \u001b[0;32mif\u001b[0m \u001b[0mai_move\u001b[0m\u001b[0;34m:\u001b[0m\u001b[0;34m\u001b[0m\u001b[0;34m\u001b[0m\u001b[0m\n\u001b[1;32m     37\u001b[0m         \u001b[0mmake_move\u001b[0m\u001b[0;34m(\u001b[0m\u001b[0mboard\u001b[0m\u001b[0;34m,\u001b[0m \u001b[0mai_move\u001b[0m\u001b[0;34m[\u001b[0m\u001b[0;36m0\u001b[0m\u001b[0;34m]\u001b[0m\u001b[0;34m,\u001b[0m \u001b[0mai_move\u001b[0m\u001b[0;34m[\u001b[0m\u001b[0;36m1\u001b[0m\u001b[0;34m]\u001b[0m\u001b[0;34m,\u001b[0m \u001b[0;34m\"O\"\u001b[0m\u001b[0;34m)\u001b[0m  \u001b[0;31m# AI-ul face mutarea pentru O\u001b[0m\u001b[0;34m\u001b[0m\u001b[0;34m\u001b[0m\u001b[0m\n",
            "\u001b[0;32m<ipython-input-25-d12622291ca2>\u001b[0m in \u001b[0;36mfind_best_move\u001b[0;34m(board, analizeaza_tabla)\u001b[0m\n\u001b[1;32m     50\u001b[0m             \u001b[0;32mif\u001b[0m \u001b[0mboard\u001b[0m\u001b[0;34m[\u001b[0m\u001b[0mrow\u001b[0m\u001b[0;34m]\u001b[0m\u001b[0;34m[\u001b[0m\u001b[0mcol\u001b[0m\u001b[0;34m]\u001b[0m \u001b[0;34m==\u001b[0m \u001b[0;34m\" \"\u001b[0m\u001b[0;34m:\u001b[0m\u001b[0;34m\u001b[0m\u001b[0;34m\u001b[0m\u001b[0m\n\u001b[1;32m     51\u001b[0m                 \u001b[0mboard\u001b[0m\u001b[0;34m[\u001b[0m\u001b[0mrow\u001b[0m\u001b[0;34m]\u001b[0m\u001b[0;34m[\u001b[0m\u001b[0mcol\u001b[0m\u001b[0;34m]\u001b[0m \u001b[0;34m=\u001b[0m \u001b[0;34m\"O\"\u001b[0m\u001b[0;34m\u001b[0m\u001b[0;34m\u001b[0m\u001b[0m\n\u001b[0;32m---> 52\u001b[0;31m                 \u001b[0mscore\u001b[0m \u001b[0;34m=\u001b[0m \u001b[0mminimax_6x6\u001b[0m\u001b[0;34m(\u001b[0m\u001b[0mboard\u001b[0m\u001b[0;34m,\u001b[0m \u001b[0;36m0\u001b[0m\u001b[0;34m,\u001b[0m \u001b[0;32mFalse\u001b[0m\u001b[0;34m,\u001b[0m \u001b[0manalizeaza_tabla\u001b[0m\u001b[0;34m)\u001b[0m\u001b[0;34m\u001b[0m\u001b[0;34m\u001b[0m\u001b[0m\n\u001b[0m\u001b[1;32m     53\u001b[0m                 \u001b[0mboard\u001b[0m\u001b[0;34m[\u001b[0m\u001b[0mrow\u001b[0m\u001b[0;34m]\u001b[0m\u001b[0;34m[\u001b[0m\u001b[0mcol\u001b[0m\u001b[0;34m]\u001b[0m \u001b[0;34m=\u001b[0m \u001b[0;34m\" \"\u001b[0m\u001b[0;34m\u001b[0m\u001b[0;34m\u001b[0m\u001b[0m\n\u001b[1;32m     54\u001b[0m                 \u001b[0;32mif\u001b[0m \u001b[0mscore\u001b[0m \u001b[0;34m>\u001b[0m \u001b[0mbest_score\u001b[0m\u001b[0;34m:\u001b[0m\u001b[0;34m\u001b[0m\u001b[0;34m\u001b[0m\u001b[0m\n",
            "\u001b[0;32m<ipython-input-25-d12622291ca2>\u001b[0m in \u001b[0;36mminimax_6x6\u001b[0;34m(board, depth, is_maximizing, analizeaza_tabla)\u001b[0m\n\u001b[1;32m     34\u001b[0m                 \u001b[0;32mif\u001b[0m \u001b[0mboard\u001b[0m\u001b[0;34m[\u001b[0m\u001b[0mrow\u001b[0m\u001b[0;34m]\u001b[0m\u001b[0;34m[\u001b[0m\u001b[0mcol\u001b[0m\u001b[0;34m]\u001b[0m \u001b[0;34m==\u001b[0m \u001b[0;34m\" \"\u001b[0m\u001b[0;34m:\u001b[0m\u001b[0;34m\u001b[0m\u001b[0;34m\u001b[0m\u001b[0m\n\u001b[1;32m     35\u001b[0m                     \u001b[0mboard\u001b[0m\u001b[0;34m[\u001b[0m\u001b[0mrow\u001b[0m\u001b[0;34m]\u001b[0m\u001b[0;34m[\u001b[0m\u001b[0mcol\u001b[0m\u001b[0;34m]\u001b[0m \u001b[0;34m=\u001b[0m \u001b[0;34m\"X\"\u001b[0m  \u001b[0;31m# Jucătorul face mutarea.\u001b[0m\u001b[0;34m\u001b[0m\u001b[0;34m\u001b[0m\u001b[0m\n\u001b[0;32m---> 36\u001b[0;31m                     \u001b[0mscore\u001b[0m \u001b[0;34m=\u001b[0m \u001b[0mminimax_6x6\u001b[0m\u001b[0;34m(\u001b[0m\u001b[0mboard\u001b[0m\u001b[0;34m,\u001b[0m \u001b[0mdepth\u001b[0m \u001b[0;34m+\u001b[0m \u001b[0;36m1\u001b[0m\u001b[0;34m,\u001b[0m \u001b[0;32mTrue\u001b[0m\u001b[0;34m,\u001b[0m \u001b[0manalizeaza_tabla\u001b[0m\u001b[0;34m)\u001b[0m\u001b[0;34m\u001b[0m\u001b[0;34m\u001b[0m\u001b[0m\n\u001b[0m\u001b[1;32m     37\u001b[0m                     \u001b[0mboard\u001b[0m\u001b[0;34m[\u001b[0m\u001b[0mrow\u001b[0m\u001b[0;34m]\u001b[0m\u001b[0;34m[\u001b[0m\u001b[0mcol\u001b[0m\u001b[0;34m]\u001b[0m \u001b[0;34m=\u001b[0m \u001b[0;34m\" \"\u001b[0m\u001b[0;34m\u001b[0m\u001b[0;34m\u001b[0m\u001b[0m\n\u001b[1;32m     38\u001b[0m                     \u001b[0mbest_score\u001b[0m \u001b[0;34m=\u001b[0m \u001b[0mmin\u001b[0m\u001b[0;34m(\u001b[0m\u001b[0mscore\u001b[0m\u001b[0;34m,\u001b[0m \u001b[0mbest_score\u001b[0m\u001b[0;34m)\u001b[0m\u001b[0;34m\u001b[0m\u001b[0;34m\u001b[0m\u001b[0m\n",
            "\u001b[0;32m<ipython-input-25-d12622291ca2>\u001b[0m in \u001b[0;36mminimax_6x6\u001b[0;34m(board, depth, is_maximizing, analizeaza_tabla)\u001b[0m\n\u001b[1;32m     24\u001b[0m                 \u001b[0;32mif\u001b[0m \u001b[0mboard\u001b[0m\u001b[0;34m[\u001b[0m\u001b[0mrow\u001b[0m\u001b[0;34m]\u001b[0m\u001b[0;34m[\u001b[0m\u001b[0mcol\u001b[0m\u001b[0;34m]\u001b[0m \u001b[0;34m==\u001b[0m \u001b[0;34m\" \"\u001b[0m\u001b[0;34m:\u001b[0m\u001b[0;34m\u001b[0m\u001b[0;34m\u001b[0m\u001b[0m\n\u001b[1;32m     25\u001b[0m                     \u001b[0mboard\u001b[0m\u001b[0;34m[\u001b[0m\u001b[0mrow\u001b[0m\u001b[0;34m]\u001b[0m\u001b[0;34m[\u001b[0m\u001b[0mcol\u001b[0m\u001b[0;34m]\u001b[0m \u001b[0;34m=\u001b[0m \u001b[0;34m\"O\"\u001b[0m  \u001b[0;31m# AI face mutarea.\u001b[0m\u001b[0;34m\u001b[0m\u001b[0;34m\u001b[0m\u001b[0m\n\u001b[0;32m---> 26\u001b[0;31m                     \u001b[0mscore\u001b[0m \u001b[0;34m=\u001b[0m \u001b[0mminimax_6x6\u001b[0m\u001b[0;34m(\u001b[0m\u001b[0mboard\u001b[0m\u001b[0;34m,\u001b[0m \u001b[0mdepth\u001b[0m \u001b[0;34m-\u001b[0m \u001b[0;36m1\u001b[0m\u001b[0;34m,\u001b[0m \u001b[0;32mFalse\u001b[0m\u001b[0;34m,\u001b[0m \u001b[0manalizeaza_tabla\u001b[0m\u001b[0;34m)\u001b[0m\u001b[0;34m\u001b[0m\u001b[0;34m\u001b[0m\u001b[0m\n\u001b[0m\u001b[1;32m     27\u001b[0m                     \u001b[0mboard\u001b[0m\u001b[0;34m[\u001b[0m\u001b[0mrow\u001b[0m\u001b[0;34m]\u001b[0m\u001b[0;34m[\u001b[0m\u001b[0mcol\u001b[0m\u001b[0;34m-\u001b[0m\u001b[0;36m1\u001b[0m\u001b[0;34m]\u001b[0m \u001b[0;34m=\u001b[0m \u001b[0;34m\" \"\u001b[0m\u001b[0;34m\u001b[0m\u001b[0;34m\u001b[0m\u001b[0m\n\u001b[1;32m     28\u001b[0m                     \u001b[0mbest_score\u001b[0m \u001b[0;34m=\u001b[0m \u001b[0mmin\u001b[0m\u001b[0;34m(\u001b[0m\u001b[0mscore\u001b[0m\u001b[0;34m,\u001b[0m \u001b[0mbest_score\u001b[0m\u001b[0;34m)\u001b[0m\u001b[0;34m\u001b[0m\u001b[0;34m\u001b[0m\u001b[0m\n",
            "\u001b[0;32m<ipython-input-25-d12622291ca2>\u001b[0m in \u001b[0;36mminimax_6x6\u001b[0;34m(board, depth, is_maximizing, analizeaza_tabla)\u001b[0m\n\u001b[1;32m     34\u001b[0m                 \u001b[0;32mif\u001b[0m \u001b[0mboard\u001b[0m\u001b[0;34m[\u001b[0m\u001b[0mrow\u001b[0m\u001b[0;34m]\u001b[0m\u001b[0;34m[\u001b[0m\u001b[0mcol\u001b[0m\u001b[0;34m]\u001b[0m \u001b[0;34m==\u001b[0m \u001b[0;34m\" \"\u001b[0m\u001b[0;34m:\u001b[0m\u001b[0;34m\u001b[0m\u001b[0;34m\u001b[0m\u001b[0m\n\u001b[1;32m     35\u001b[0m                     \u001b[0mboard\u001b[0m\u001b[0;34m[\u001b[0m\u001b[0mrow\u001b[0m\u001b[0;34m]\u001b[0m\u001b[0;34m[\u001b[0m\u001b[0mcol\u001b[0m\u001b[0;34m]\u001b[0m \u001b[0;34m=\u001b[0m \u001b[0;34m\"X\"\u001b[0m  \u001b[0;31m# Jucătorul face mutarea.\u001b[0m\u001b[0;34m\u001b[0m\u001b[0;34m\u001b[0m\u001b[0m\n\u001b[0;32m---> 36\u001b[0;31m                     \u001b[0mscore\u001b[0m \u001b[0;34m=\u001b[0m \u001b[0mminimax_6x6\u001b[0m\u001b[0;34m(\u001b[0m\u001b[0mboard\u001b[0m\u001b[0;34m,\u001b[0m \u001b[0mdepth\u001b[0m \u001b[0;34m+\u001b[0m \u001b[0;36m1\u001b[0m\u001b[0;34m,\u001b[0m \u001b[0;32mTrue\u001b[0m\u001b[0;34m,\u001b[0m \u001b[0manalizeaza_tabla\u001b[0m\u001b[0;34m)\u001b[0m\u001b[0;34m\u001b[0m\u001b[0;34m\u001b[0m\u001b[0m\n\u001b[0m\u001b[1;32m     37\u001b[0m                     \u001b[0mboard\u001b[0m\u001b[0;34m[\u001b[0m\u001b[0mrow\u001b[0m\u001b[0;34m]\u001b[0m\u001b[0;34m[\u001b[0m\u001b[0mcol\u001b[0m\u001b[0;34m]\u001b[0m \u001b[0;34m=\u001b[0m \u001b[0;34m\" \"\u001b[0m\u001b[0;34m\u001b[0m\u001b[0;34m\u001b[0m\u001b[0m\n\u001b[1;32m     38\u001b[0m                     \u001b[0mbest_score\u001b[0m \u001b[0;34m=\u001b[0m \u001b[0mmin\u001b[0m\u001b[0;34m(\u001b[0m\u001b[0mscore\u001b[0m\u001b[0;34m,\u001b[0m \u001b[0mbest_score\u001b[0m\u001b[0;34m)\u001b[0m\u001b[0;34m\u001b[0m\u001b[0;34m\u001b[0m\u001b[0m\n",
            "\u001b[0;32m<ipython-input-25-d12622291ca2>\u001b[0m in \u001b[0;36mminimax_6x6\u001b[0;34m(board, depth, is_maximizing, analizeaza_tabla)\u001b[0m\n\u001b[1;32m     24\u001b[0m                 \u001b[0;32mif\u001b[0m \u001b[0mboard\u001b[0m\u001b[0;34m[\u001b[0m\u001b[0mrow\u001b[0m\u001b[0;34m]\u001b[0m\u001b[0;34m[\u001b[0m\u001b[0mcol\u001b[0m\u001b[0;34m]\u001b[0m \u001b[0;34m==\u001b[0m \u001b[0;34m\" \"\u001b[0m\u001b[0;34m:\u001b[0m\u001b[0;34m\u001b[0m\u001b[0;34m\u001b[0m\u001b[0m\n\u001b[1;32m     25\u001b[0m                     \u001b[0mboard\u001b[0m\u001b[0;34m[\u001b[0m\u001b[0mrow\u001b[0m\u001b[0;34m]\u001b[0m\u001b[0;34m[\u001b[0m\u001b[0mcol\u001b[0m\u001b[0;34m]\u001b[0m \u001b[0;34m=\u001b[0m \u001b[0;34m\"O\"\u001b[0m  \u001b[0;31m# AI face mutarea.\u001b[0m\u001b[0;34m\u001b[0m\u001b[0;34m\u001b[0m\u001b[0m\n\u001b[0;32m---> 26\u001b[0;31m                     \u001b[0mscore\u001b[0m \u001b[0;34m=\u001b[0m \u001b[0mminimax_6x6\u001b[0m\u001b[0;34m(\u001b[0m\u001b[0mboard\u001b[0m\u001b[0;34m,\u001b[0m \u001b[0mdepth\u001b[0m \u001b[0;34m-\u001b[0m \u001b[0;36m1\u001b[0m\u001b[0;34m,\u001b[0m \u001b[0;32mFalse\u001b[0m\u001b[0;34m,\u001b[0m \u001b[0manalizeaza_tabla\u001b[0m\u001b[0;34m)\u001b[0m\u001b[0;34m\u001b[0m\u001b[0;34m\u001b[0m\u001b[0m\n\u001b[0m\u001b[1;32m     27\u001b[0m                     \u001b[0mboard\u001b[0m\u001b[0;34m[\u001b[0m\u001b[0mrow\u001b[0m\u001b[0;34m]\u001b[0m\u001b[0;34m[\u001b[0m\u001b[0mcol\u001b[0m\u001b[0;34m-\u001b[0m\u001b[0;36m1\u001b[0m\u001b[0;34m]\u001b[0m \u001b[0;34m=\u001b[0m \u001b[0;34m\" \"\u001b[0m\u001b[0;34m\u001b[0m\u001b[0;34m\u001b[0m\u001b[0m\n\u001b[1;32m     28\u001b[0m                     \u001b[0mbest_score\u001b[0m \u001b[0;34m=\u001b[0m \u001b[0mmin\u001b[0m\u001b[0;34m(\u001b[0m\u001b[0mscore\u001b[0m\u001b[0;34m,\u001b[0m \u001b[0mbest_score\u001b[0m\u001b[0;34m)\u001b[0m\u001b[0;34m\u001b[0m\u001b[0;34m\u001b[0m\u001b[0m\n",
            "\u001b[0;32m<ipython-input-25-d12622291ca2>\u001b[0m in \u001b[0;36mminimax_6x6\u001b[0;34m(board, depth, is_maximizing, analizeaza_tabla)\u001b[0m\n\u001b[1;32m     34\u001b[0m                 \u001b[0;32mif\u001b[0m \u001b[0mboard\u001b[0m\u001b[0;34m[\u001b[0m\u001b[0mrow\u001b[0m\u001b[0;34m]\u001b[0m\u001b[0;34m[\u001b[0m\u001b[0mcol\u001b[0m\u001b[0;34m]\u001b[0m \u001b[0;34m==\u001b[0m \u001b[0;34m\" \"\u001b[0m\u001b[0;34m:\u001b[0m\u001b[0;34m\u001b[0m\u001b[0;34m\u001b[0m\u001b[0m\n\u001b[1;32m     35\u001b[0m                     \u001b[0mboard\u001b[0m\u001b[0;34m[\u001b[0m\u001b[0mrow\u001b[0m\u001b[0;34m]\u001b[0m\u001b[0;34m[\u001b[0m\u001b[0mcol\u001b[0m\u001b[0;34m]\u001b[0m \u001b[0;34m=\u001b[0m \u001b[0;34m\"X\"\u001b[0m  \u001b[0;31m# Jucătorul face mutarea.\u001b[0m\u001b[0;34m\u001b[0m\u001b[0;34m\u001b[0m\u001b[0m\n\u001b[0;32m---> 36\u001b[0;31m                     \u001b[0mscore\u001b[0m \u001b[0;34m=\u001b[0m \u001b[0mminimax_6x6\u001b[0m\u001b[0;34m(\u001b[0m\u001b[0mboard\u001b[0m\u001b[0;34m,\u001b[0m \u001b[0mdepth\u001b[0m \u001b[0;34m+\u001b[0m \u001b[0;36m1\u001b[0m\u001b[0;34m,\u001b[0m \u001b[0;32mTrue\u001b[0m\u001b[0;34m,\u001b[0m \u001b[0manalizeaza_tabla\u001b[0m\u001b[0;34m)\u001b[0m\u001b[0;34m\u001b[0m\u001b[0;34m\u001b[0m\u001b[0m\n\u001b[0m\u001b[1;32m     37\u001b[0m                     \u001b[0mboard\u001b[0m\u001b[0;34m[\u001b[0m\u001b[0mrow\u001b[0m\u001b[0;34m]\u001b[0m\u001b[0;34m[\u001b[0m\u001b[0mcol\u001b[0m\u001b[0;34m]\u001b[0m \u001b[0;34m=\u001b[0m \u001b[0;34m\" \"\u001b[0m\u001b[0;34m\u001b[0m\u001b[0;34m\u001b[0m\u001b[0m\n\u001b[1;32m     38\u001b[0m                     \u001b[0mbest_score\u001b[0m \u001b[0;34m=\u001b[0m \u001b[0mmin\u001b[0m\u001b[0;34m(\u001b[0m\u001b[0mscore\u001b[0m\u001b[0;34m,\u001b[0m \u001b[0mbest_score\u001b[0m\u001b[0;34m)\u001b[0m\u001b[0;34m\u001b[0m\u001b[0;34m\u001b[0m\u001b[0m\n",
            "\u001b[0;32m<ipython-input-25-d12622291ca2>\u001b[0m in \u001b[0;36mminimax_6x6\u001b[0;34m(board, depth, is_maximizing, analizeaza_tabla)\u001b[0m\n\u001b[1;32m     22\u001b[0m         \u001b[0;32mfor\u001b[0m \u001b[0mrow\u001b[0m \u001b[0;32min\u001b[0m \u001b[0mrange\u001b[0m\u001b[0;34m(\u001b[0m\u001b[0;36m8\u001b[0m\u001b[0;34m)\u001b[0m\u001b[0;34m:\u001b[0m\u001b[0;34m\u001b[0m\u001b[0;34m\u001b[0m\u001b[0m\n\u001b[1;32m     23\u001b[0m             \u001b[0;32mfor\u001b[0m \u001b[0mcol\u001b[0m \u001b[0;32min\u001b[0m \u001b[0mrange\u001b[0m\u001b[0;34m(\u001b[0m\u001b[0;36m8\u001b[0m\u001b[0;34m)\u001b[0m\u001b[0;34m:\u001b[0m\u001b[0;34m\u001b[0m\u001b[0;34m\u001b[0m\u001b[0m\n\u001b[0;32m---> 24\u001b[0;31m                 \u001b[0;32mif\u001b[0m \u001b[0mboard\u001b[0m\u001b[0;34m[\u001b[0m\u001b[0mrow\u001b[0m\u001b[0;34m]\u001b[0m\u001b[0;34m[\u001b[0m\u001b[0mcol\u001b[0m\u001b[0;34m]\u001b[0m \u001b[0;34m==\u001b[0m \u001b[0;34m\" \"\u001b[0m\u001b[0;34m:\u001b[0m\u001b[0;34m\u001b[0m\u001b[0;34m\u001b[0m\u001b[0m\n\u001b[0m\u001b[1;32m     25\u001b[0m                     \u001b[0mboard\u001b[0m\u001b[0;34m[\u001b[0m\u001b[0mrow\u001b[0m\u001b[0;34m]\u001b[0m\u001b[0;34m[\u001b[0m\u001b[0mcol\u001b[0m\u001b[0;34m]\u001b[0m \u001b[0;34m=\u001b[0m \u001b[0;34m\"O\"\u001b[0m  \u001b[0;31m# AI face mutarea.\u001b[0m\u001b[0;34m\u001b[0m\u001b[0;34m\u001b[0m\u001b[0m\n\u001b[1;32m     26\u001b[0m                     \u001b[0mscore\u001b[0m \u001b[0;34m=\u001b[0m \u001b[0mminimax_6x6\u001b[0m\u001b[0;34m(\u001b[0m\u001b[0mboard\u001b[0m\u001b[0;34m,\u001b[0m \u001b[0mdepth\u001b[0m \u001b[0;34m-\u001b[0m \u001b[0;36m1\u001b[0m\u001b[0;34m,\u001b[0m \u001b[0;32mFalse\u001b[0m\u001b[0;34m,\u001b[0m \u001b[0manalizeaza_tabla\u001b[0m\u001b[0;34m)\u001b[0m\u001b[0;34m\u001b[0m\u001b[0;34m\u001b[0m\u001b[0m\n",
            "\u001b[0;31mIndexError\u001b[0m: list index out of range"
          ]
        }
      ]
    },
    {
      "cell_type": "markdown",
      "source": [
        "### ✏️ **Problema 8:**\n",
        "\n",
        "Oferă 3 exemple de funcții `analizeaza_tabla(board, is_maximizing)` pe care le-am putea utiliza pentru a îmbunătăți performanța modelului nostru AI. Aceste funcții sunt destinate să evalueze pozițiile de pe tablă într-un mod care ajută la luarea unor decizii mai informate în cadrul algoritmului `minimax`. Menționăm că pozițiile evaluate nu sunt poziții finale ale jocului, ci poziții intermediare.\n",
        "\n",
        "**Exemplu:** Evaluarea Bazei Pe Apropierea de Câștig\n",
        "   - **Descriere:** Evaluează cât de aproape este fiecare jucător de a câștiga pe baza numărului de simboluri aliniate pe toate liniile.\n",
        "   - **Pseudocod:**\n",
        "     ```\n",
        "     FUNCTION analizeaza_tabla_apropiere_castig(board, is_maximizing)\n",
        "         score = 0\n",
        "         FOR EACH line IN all_lines\n",
        "             x_count = COUNT_OF(\"X\" IN line)\n",
        "             o_count = COUNT_OF(\"O\" IN line)\n",
        "             IF x_count == 3:\n",
        "                 score = score + 50  // X este aproape de câștig\n",
        "             ELSE IF o_count == 3:\n",
        "                 score = score - 50  // O este aproape de câștig\n",
        "         RETURN score\n",
        "     ```\n",
        "\n"
      ],
      "metadata": {
        "id": "SouBwUbD1vwY"
      }
    },
    {
      "cell_type": "markdown",
      "source": [
        "✏️ **Solutia ta aici!**"
      ],
      "metadata": {
        "id": "zbITmBOF25Ih"
      }
    },
    {
      "cell_type": "markdown",
      "source": [
        "### ✏️ **Problema 9:**\n",
        "Codeaza una dintre ideile propuse! Apoi, verifică cât de inteligent este modelul tău! Fii atent la cum se foloseste in general functia is_maximizing si\n"
      ],
      "metadata": {
        "id": "IpYF84Dl24ev"
      }
    },
    {
      "cell_type": "code",
      "source": [
        "#@title  ✏️ Implementarea functii Heuristice\n",
        "\n",
        "import math\n",
        "\n",
        "def analizeaza_tabla_1(board, is_maximizing):\n",
        "  ### codul tau aici\n",
        "\n",
        "  ### codul tau aici\n",
        "  return 0"
      ],
      "metadata": {
        "id": "Bc2cImQx2oFP"
      },
      "execution_count": 28,
      "outputs": []
    },
    {
      "cell_type": "code",
      "source": [
        "#@title Simulare noua de joc\n",
        "board = [[\" \" for _ in range(6)] for _ in range(6)]\n",
        "\n",
        "\n",
        "while True:\n",
        "    print_board(board)  # Afișează tabla de joc\n",
        "\n",
        "    if check_win(board, \"X\"):  # Verifică dacă jucătorul X a câștigat\n",
        "        print(\"X a câștigat!\")\n",
        "        break\n",
        "    if check_win(board, \"O\"):  # Verifică dacă AI-ul (O) a câștigat\n",
        "        print(\"O a câștigat!\")\n",
        "        break\n",
        "    if is_draw(board):  # Verifică dacă jocul s-a terminat la egalitate\n",
        "        print(\"Este o remiză!\")\n",
        "        break\n",
        "\n",
        "    # Rândul jucătorului\n",
        "    while True:\n",
        "        try:\n",
        "            # Solicită mutarea jucătorului (rând și coloană, separate prin spațiu)\n",
        "            row, col = map(int, input(\"Introduceți mutarea dvs. (rând și coloană, separate prin spațiu): \").split())\n",
        "            if 0 <= row < 7 and 0 <= col < 7:  # Verifică dacă mutarea este în limitele tablei\n",
        "                if make_move(board, row, col, \"X\"):  # Efectuează mutarea pentru jucătorul X\n",
        "                    break\n",
        "                else:\n",
        "                    print(\"Acest loc este deja ocupat. Încercați din nou.\")\n",
        "            else:\n",
        "                print(\"Intrare invalidă. Introduceți numerele rândului și coloanei între 0 și 2.\")\n",
        "        except ValueError:\n",
        "            print(\"Intrare invalidă. Vă rugăm să introduceți două numere întregi separate prin spațiu.\")\n",
        "\n",
        "    # Rândul AI-ului\n",
        "    ai_move = find_best_move(board, analizeaza_tabla_1)  # AI-ul alege cea mai bună mutare\n",
        "    if ai_move:\n",
        "        make_move(board, ai_move[0], ai_move[1], \"O\")  # AI-ul face mutarea pentru O"
      ],
      "metadata": {
        "colab": {
          "base_uri": "https://localhost:8080/",
          "height": 855
        },
        "id": "ku6rxA-P3sl-",
        "outputId": "b917c7cb-3dbe-4c67-f279-26647b5a29d3",
        "cellView": "form"
      },
      "execution_count": 29,
      "outputs": [
        {
          "output_type": "display_data",
          "data": {
            "text/plain": [
              "<Figure size 600x600 with 1 Axes>"
            ],
            "image/png": "[encoded data removed]"
          },
          "metadata": {}
        },
        {
          "name": "stdout",
          "output_type": "stream",
          "text": [
            "Introduceți mutarea dvs. (rând și coloană, separate prin spațiu): 3 3\n"
          ]
        },
        {
          "output_type": "error",
          "ename": "IndexError",
          "evalue": "list index out of range",
          "traceback": [
            "\u001b[0;31m---------------------------------------------------------------------------\u001b[0m",
            "\u001b[0;31mIndexError\u001b[0m                                Traceback (most recent call last)",
            "\u001b[0;32m<ipython-input-29-8c721f682df6>\u001b[0m in \u001b[0;36m<cell line: 5>\u001b[0;34m()\u001b[0m\n\u001b[1;32m     32\u001b[0m \u001b[0;34m\u001b[0m\u001b[0m\n\u001b[1;32m     33\u001b[0m     \u001b[0;31m# Rândul AI-ului\u001b[0m\u001b[0;34m\u001b[0m\u001b[0;34m\u001b[0m\u001b[0m\n\u001b[0;32m---> 34\u001b[0;31m     \u001b[0mai_move\u001b[0m \u001b[0;34m=\u001b[0m \u001b[0mfind_best_move\u001b[0m\u001b[0;34m(\u001b[0m\u001b[0mboard\u001b[0m\u001b[0;34m,\u001b[0m \u001b[0manalizeaza_tabla_1\u001b[0m\u001b[0;34m)\u001b[0m  \u001b[0;31m# AI-ul alege cea mai bună mutare\u001b[0m\u001b[0;34m\u001b[0m\u001b[0;34m\u001b[0m\u001b[0m\n\u001b[0m\u001b[1;32m     35\u001b[0m     \u001b[0;32mif\u001b[0m \u001b[0mai_move\u001b[0m\u001b[0;34m:\u001b[0m\u001b[0;34m\u001b[0m\u001b[0;34m\u001b[0m\u001b[0m\n\u001b[1;32m     36\u001b[0m         \u001b[0mmake_move\u001b[0m\u001b[0;34m(\u001b[0m\u001b[0mboard\u001b[0m\u001b[0;34m,\u001b[0m \u001b[0mai_move\u001b[0m\u001b[0;34m[\u001b[0m\u001b[0;36m0\u001b[0m\u001b[0;34m]\u001b[0m\u001b[0;34m,\u001b[0m \u001b[0mai_move\u001b[0m\u001b[0;34m[\u001b[0m\u001b[0;36m1\u001b[0m\u001b[0;34m]\u001b[0m\u001b[0;34m,\u001b[0m \u001b[0;34m\"O\"\u001b[0m\u001b[0;34m)\u001b[0m  \u001b[0;31m# AI-ul face mutarea pentru O\u001b[0m\u001b[0;34m\u001b[0m\u001b[0;34m\u001b[0m\u001b[0m\n",
            "\u001b[0;32m<ipython-input-25-d12622291ca2>\u001b[0m in \u001b[0;36mfind_best_move\u001b[0;34m(board, analizeaza_tabla)\u001b[0m\n\u001b[1;32m     50\u001b[0m             \u001b[0;32mif\u001b[0m \u001b[0mboard\u001b[0m\u001b[0;34m[\u001b[0m\u001b[0mrow\u001b[0m\u001b[0;34m]\u001b[0m\u001b[0;34m[\u001b[0m\u001b[0mcol\u001b[0m\u001b[0;34m]\u001b[0m \u001b[0;34m==\u001b[0m \u001b[0;34m\" \"\u001b[0m\u001b[0;34m:\u001b[0m\u001b[0;34m\u001b[0m\u001b[0;34m\u001b[0m\u001b[0m\n\u001b[1;32m     51\u001b[0m                 \u001b[0mboard\u001b[0m\u001b[0;34m[\u001b[0m\u001b[0mrow\u001b[0m\u001b[0;34m]\u001b[0m\u001b[0;34m[\u001b[0m\u001b[0mcol\u001b[0m\u001b[0;34m]\u001b[0m \u001b[0;34m=\u001b[0m \u001b[0;34m\"O\"\u001b[0m\u001b[0;34m\u001b[0m\u001b[0;34m\u001b[0m\u001b[0m\n\u001b[0;32m---> 52\u001b[0;31m                 \u001b[0mscore\u001b[0m \u001b[0;34m=\u001b[0m \u001b[0mminimax_6x6\u001b[0m\u001b[0;34m(\u001b[0m\u001b[0mboard\u001b[0m\u001b[0;34m,\u001b[0m \u001b[0;36m0\u001b[0m\u001b[0;34m,\u001b[0m \u001b[0;32mFalse\u001b[0m\u001b[0;34m,\u001b[0m \u001b[0manalizeaza_tabla\u001b[0m\u001b[0;34m)\u001b[0m\u001b[0;34m\u001b[0m\u001b[0;34m\u001b[0m\u001b[0m\n\u001b[0m\u001b[1;32m     53\u001b[0m                 \u001b[0mboard\u001b[0m\u001b[0;34m[\u001b[0m\u001b[0mrow\u001b[0m\u001b[0;34m]\u001b[0m\u001b[0;34m[\u001b[0m\u001b[0mcol\u001b[0m\u001b[0;34m]\u001b[0m \u001b[0;34m=\u001b[0m \u001b[0;34m\" \"\u001b[0m\u001b[0;34m\u001b[0m\u001b[0;34m\u001b[0m\u001b[0m\n\u001b[1;32m     54\u001b[0m                 \u001b[0;32mif\u001b[0m \u001b[0mscore\u001b[0m \u001b[0;34m>\u001b[0m \u001b[0mbest_score\u001b[0m\u001b[0;34m:\u001b[0m\u001b[0;34m\u001b[0m\u001b[0;34m\u001b[0m\u001b[0m\n",
            "\u001b[0;32m<ipython-input-25-d12622291ca2>\u001b[0m in \u001b[0;36mminimax_6x6\u001b[0;34m(board, depth, is_maximizing, analizeaza_tabla)\u001b[0m\n\u001b[1;32m     34\u001b[0m                 \u001b[0;32mif\u001b[0m \u001b[0mboard\u001b[0m\u001b[0;34m[\u001b[0m\u001b[0mrow\u001b[0m\u001b[0;34m]\u001b[0m\u001b[0;34m[\u001b[0m\u001b[0mcol\u001b[0m\u001b[0;34m]\u001b[0m \u001b[0;34m==\u001b[0m \u001b[0;34m\" \"\u001b[0m\u001b[0;34m:\u001b[0m\u001b[0;34m\u001b[0m\u001b[0;34m\u001b[0m\u001b[0m\n\u001b[1;32m     35\u001b[0m                     \u001b[0mboard\u001b[0m\u001b[0;34m[\u001b[0m\u001b[0mrow\u001b[0m\u001b[0;34m]\u001b[0m\u001b[0;34m[\u001b[0m\u001b[0mcol\u001b[0m\u001b[0;34m]\u001b[0m \u001b[0;34m=\u001b[0m \u001b[0;34m\"X\"\u001b[0m  \u001b[0;31m# Jucătorul face mutarea.\u001b[0m\u001b[0;34m\u001b[0m\u001b[0;34m\u001b[0m\u001b[0m\n\u001b[0;32m---> 36\u001b[0;31m                     \u001b[0mscore\u001b[0m \u001b[0;34m=\u001b[0m \u001b[0mminimax_6x6\u001b[0m\u001b[0;34m(\u001b[0m\u001b[0mboard\u001b[0m\u001b[0;34m,\u001b[0m \u001b[0mdepth\u001b[0m \u001b[0;34m+\u001b[0m \u001b[0;36m1\u001b[0m\u001b[0;34m,\u001b[0m \u001b[0;32mTrue\u001b[0m\u001b[0;34m,\u001b[0m \u001b[0manalizeaza_tabla\u001b[0m\u001b[0;34m)\u001b[0m\u001b[0;34m\u001b[0m\u001b[0;34m\u001b[0m\u001b[0m\n\u001b[0m\u001b[1;32m     37\u001b[0m                     \u001b[0mboard\u001b[0m\u001b[0;34m[\u001b[0m\u001b[0mrow\u001b[0m\u001b[0;34m]\u001b[0m\u001b[0;34m[\u001b[0m\u001b[0mcol\u001b[0m\u001b[0;34m]\u001b[0m \u001b[0;34m=\u001b[0m \u001b[0;34m\" \"\u001b[0m\u001b[0;34m\u001b[0m\u001b[0;34m\u001b[0m\u001b[0m\n\u001b[1;32m     38\u001b[0m                     \u001b[0mbest_score\u001b[0m \u001b[0;34m=\u001b[0m \u001b[0mmin\u001b[0m\u001b[0;34m(\u001b[0m\u001b[0mscore\u001b[0m\u001b[0;34m,\u001b[0m \u001b[0mbest_score\u001b[0m\u001b[0;34m)\u001b[0m\u001b[0;34m\u001b[0m\u001b[0;34m\u001b[0m\u001b[0m\n",
            "\u001b[0;32m<ipython-input-25-d12622291ca2>\u001b[0m in \u001b[0;36mminimax_6x6\u001b[0;34m(board, depth, is_maximizing, analizeaza_tabla)\u001b[0m\n\u001b[1;32m     24\u001b[0m                 \u001b[0;32mif\u001b[0m \u001b[0mboard\u001b[0m\u001b[0;34m[\u001b[0m\u001b[0mrow\u001b[0m\u001b[0;34m]\u001b[0m\u001b[0;34m[\u001b[0m\u001b[0mcol\u001b[0m\u001b[0;34m]\u001b[0m \u001b[0;34m==\u001b[0m \u001b[0;34m\" \"\u001b[0m\u001b[0;34m:\u001b[0m\u001b[0;34m\u001b[0m\u001b[0;34m\u001b[0m\u001b[0m\n\u001b[1;32m     25\u001b[0m                     \u001b[0mboard\u001b[0m\u001b[0;34m[\u001b[0m\u001b[0mrow\u001b[0m\u001b[0;34m]\u001b[0m\u001b[0;34m[\u001b[0m\u001b[0mcol\u001b[0m\u001b[0;34m]\u001b[0m \u001b[0;34m=\u001b[0m \u001b[0;34m\"O\"\u001b[0m  \u001b[0;31m# AI face mutarea.\u001b[0m\u001b[0;34m\u001b[0m\u001b[0;34m\u001b[0m\u001b[0m\n\u001b[0;32m---> 26\u001b[0;31m                     \u001b[0mscore\u001b[0m \u001b[0;34m=\u001b[0m \u001b[0mminimax_6x6\u001b[0m\u001b[0;34m(\u001b[0m\u001b[0mboard\u001b[0m\u001b[0;34m,\u001b[0m \u001b[0mdepth\u001b[0m \u001b[0;34m-\u001b[0m \u001b[0;36m1\u001b[0m\u001b[0;34m,\u001b[0m \u001b[0;32mFalse\u001b[0m\u001b[0;34m,\u001b[0m \u001b[0manalizeaza_tabla\u001b[0m\u001b[0;34m)\u001b[0m\u001b[0;34m\u001b[0m\u001b[0;34m\u001b[0m\u001b[0m\n\u001b[0m\u001b[1;32m     27\u001b[0m                     \u001b[0mboard\u001b[0m\u001b[0;34m[\u001b[0m\u001b[0mrow\u001b[0m\u001b[0;34m]\u001b[0m\u001b[0;34m[\u001b[0m\u001b[0mcol\u001b[0m\u001b[0;34m-\u001b[0m\u001b[0;36m1\u001b[0m\u001b[0;34m]\u001b[0m \u001b[0;34m=\u001b[0m \u001b[0;34m\" \"\u001b[0m\u001b[0;34m\u001b[0m\u001b[0;34m\u001b[0m\u001b[0m\n\u001b[1;32m     28\u001b[0m                     \u001b[0mbest_score\u001b[0m \u001b[0;34m=\u001b[0m \u001b[0mmin\u001b[0m\u001b[0;34m(\u001b[0m\u001b[0mscore\u001b[0m\u001b[0;34m,\u001b[0m \u001b[0mbest_score\u001b[0m\u001b[0;34m)\u001b[0m\u001b[0;34m\u001b[0m\u001b[0;34m\u001b[0m\u001b[0m\n",
            "\u001b[0;32m<ipython-input-25-d12622291ca2>\u001b[0m in \u001b[0;36mminimax_6x6\u001b[0;34m(board, depth, is_maximizing, analizeaza_tabla)\u001b[0m\n\u001b[1;32m     34\u001b[0m                 \u001b[0;32mif\u001b[0m \u001b[0mboard\u001b[0m\u001b[0;34m[\u001b[0m\u001b[0mrow\u001b[0m\u001b[0;34m]\u001b[0m\u001b[0;34m[\u001b[0m\u001b[0mcol\u001b[0m\u001b[0;34m]\u001b[0m \u001b[0;34m==\u001b[0m \u001b[0;34m\" \"\u001b[0m\u001b[0;34m:\u001b[0m\u001b[0;34m\u001b[0m\u001b[0;34m\u001b[0m\u001b[0m\n\u001b[1;32m     35\u001b[0m                     \u001b[0mboard\u001b[0m\u001b[0;34m[\u001b[0m\u001b[0mrow\u001b[0m\u001b[0;34m]\u001b[0m\u001b[0;34m[\u001b[0m\u001b[0mcol\u001b[0m\u001b[0;34m]\u001b[0m \u001b[0;34m=\u001b[0m \u001b[0;34m\"X\"\u001b[0m  \u001b[0;31m# Jucătorul face mutarea.\u001b[0m\u001b[0;34m\u001b[0m\u001b[0;34m\u001b[0m\u001b[0m\n\u001b[0;32m---> 36\u001b[0;31m                     \u001b[0mscore\u001b[0m \u001b[0;34m=\u001b[0m \u001b[0mminimax_6x6\u001b[0m\u001b[0;34m(\u001b[0m\u001b[0mboard\u001b[0m\u001b[0;34m,\u001b[0m \u001b[0mdepth\u001b[0m \u001b[0;34m+\u001b[0m \u001b[0;36m1\u001b[0m\u001b[0;34m,\u001b[0m \u001b[0;32mTrue\u001b[0m\u001b[0;34m,\u001b[0m \u001b[0manalizeaza_tabla\u001b[0m\u001b[0;34m)\u001b[0m\u001b[0;34m\u001b[0m\u001b[0;34m\u001b[0m\u001b[0m\n\u001b[0m\u001b[1;32m     37\u001b[0m                     \u001b[0mboard\u001b[0m\u001b[0;34m[\u001b[0m\u001b[0mrow\u001b[0m\u001b[0;34m]\u001b[0m\u001b[0;34m[\u001b[0m\u001b[0mcol\u001b[0m\u001b[0;34m]\u001b[0m \u001b[0;34m=\u001b[0m \u001b[0;34m\" \"\u001b[0m\u001b[0;34m\u001b[0m\u001b[0;34m\u001b[0m\u001b[0m\n\u001b[1;32m     38\u001b[0m                     \u001b[0mbest_score\u001b[0m \u001b[0;34m=\u001b[0m \u001b[0mmin\u001b[0m\u001b[0;34m(\u001b[0m\u001b[0mscore\u001b[0m\u001b[0;34m,\u001b[0m \u001b[0mbest_score\u001b[0m\u001b[0;34m)\u001b[0m\u001b[0;34m\u001b[0m\u001b[0;34m\u001b[0m\u001b[0m\n",
            "\u001b[0;32m<ipython-input-25-d12622291ca2>\u001b[0m in \u001b[0;36mminimax_6x6\u001b[0;34m(board, depth, is_maximizing, analizeaza_tabla)\u001b[0m\n\u001b[1;32m     24\u001b[0m                 \u001b[0;32mif\u001b[0m \u001b[0mboard\u001b[0m\u001b[0;34m[\u001b[0m\u001b[0mrow\u001b[0m\u001b[0;34m]\u001b[0m\u001b[0;34m[\u001b[0m\u001b[0mcol\u001b[0m\u001b[0;34m]\u001b[0m \u001b[0;34m==\u001b[0m \u001b[0;34m\" \"\u001b[0m\u001b[0;34m:\u001b[0m\u001b[0;34m\u001b[0m\u001b[0;34m\u001b[0m\u001b[0m\n\u001b[1;32m     25\u001b[0m                     \u001b[0mboard\u001b[0m\u001b[0;34m[\u001b[0m\u001b[0mrow\u001b[0m\u001b[0;34m]\u001b[0m\u001b[0;34m[\u001b[0m\u001b[0mcol\u001b[0m\u001b[0;34m]\u001b[0m \u001b[0;34m=\u001b[0m \u001b[0;34m\"O\"\u001b[0m  \u001b[0;31m# AI face mutarea.\u001b[0m\u001b[0;34m\u001b[0m\u001b[0;34m\u001b[0m\u001b[0m\n\u001b[0;32m---> 26\u001b[0;31m                     \u001b[0mscore\u001b[0m \u001b[0;34m=\u001b[0m \u001b[0mminimax_6x6\u001b[0m\u001b[0;34m(\u001b[0m\u001b[0mboard\u001b[0m\u001b[0;34m,\u001b[0m \u001b[0mdepth\u001b[0m \u001b[0;34m-\u001b[0m \u001b[0;36m1\u001b[0m\u001b[0;34m,\u001b[0m \u001b[0;32mFalse\u001b[0m\u001b[0;34m,\u001b[0m \u001b[0manalizeaza_tabla\u001b[0m\u001b[0;34m)\u001b[0m\u001b[0;34m\u001b[0m\u001b[0;34m\u001b[0m\u001b[0m\n\u001b[0m\u001b[1;32m     27\u001b[0m                     \u001b[0mboard\u001b[0m\u001b[0;34m[\u001b[0m\u001b[0mrow\u001b[0m\u001b[0;34m]\u001b[0m\u001b[0;34m[\u001b[0m\u001b[0mcol\u001b[0m\u001b[0;34m-\u001b[0m\u001b[0;36m1\u001b[0m\u001b[0;34m]\u001b[0m \u001b[0;34m=\u001b[0m \u001b[0;34m\" \"\u001b[0m\u001b[0;34m\u001b[0m\u001b[0;34m\u001b[0m\u001b[0m\n\u001b[1;32m     28\u001b[0m                     \u001b[0mbest_score\u001b[0m \u001b[0;34m=\u001b[0m \u001b[0mmin\u001b[0m\u001b[0;34m(\u001b[0m\u001b[0mscore\u001b[0m\u001b[0;34m,\u001b[0m \u001b[0mbest_score\u001b[0m\u001b[0;34m)\u001b[0m\u001b[0;34m\u001b[0m\u001b[0;34m\u001b[0m\u001b[0m\n",
            "\u001b[0;32m<ipython-input-25-d12622291ca2>\u001b[0m in \u001b[0;36mminimax_6x6\u001b[0;34m(board, depth, is_maximizing, analizeaza_tabla)\u001b[0m\n\u001b[1;32m     34\u001b[0m                 \u001b[0;32mif\u001b[0m \u001b[0mboard\u001b[0m\u001b[0;34m[\u001b[0m\u001b[0mrow\u001b[0m\u001b[0;34m]\u001b[0m\u001b[0;34m[\u001b[0m\u001b[0mcol\u001b[0m\u001b[0;34m]\u001b[0m \u001b[0;34m==\u001b[0m \u001b[0;34m\" \"\u001b[0m\u001b[0;34m:\u001b[0m\u001b[0;34m\u001b[0m\u001b[0;34m\u001b[0m\u001b[0m\n\u001b[1;32m     35\u001b[0m                     \u001b[0mboard\u001b[0m\u001b[0;34m[\u001b[0m\u001b[0mrow\u001b[0m\u001b[0;34m]\u001b[0m\u001b[0;34m[\u001b[0m\u001b[0mcol\u001b[0m\u001b[0;34m]\u001b[0m \u001b[0;34m=\u001b[0m \u001b[0;34m\"X\"\u001b[0m  \u001b[0;31m# Jucătorul face mutarea.\u001b[0m\u001b[0;34m\u001b[0m\u001b[0;34m\u001b[0m\u001b[0m\n\u001b[0;32m---> 36\u001b[0;31m                     \u001b[0mscore\u001b[0m \u001b[0;34m=\u001b[0m \u001b[0mminimax_6x6\u001b[0m\u001b[0;34m(\u001b[0m\u001b[0mboard\u001b[0m\u001b[0;34m,\u001b[0m \u001b[0mdepth\u001b[0m \u001b[0;34m+\u001b[0m \u001b[0;36m1\u001b[0m\u001b[0;34m,\u001b[0m \u001b[0;32mTrue\u001b[0m\u001b[0;34m,\u001b[0m \u001b[0manalizeaza_tabla\u001b[0m\u001b[0;34m)\u001b[0m\u001b[0;34m\u001b[0m\u001b[0;34m\u001b[0m\u001b[0m\n\u001b[0m\u001b[1;32m     37\u001b[0m                     \u001b[0mboard\u001b[0m\u001b[0;34m[\u001b[0m\u001b[0mrow\u001b[0m\u001b[0;34m]\u001b[0m\u001b[0;34m[\u001b[0m\u001b[0mcol\u001b[0m\u001b[0;34m]\u001b[0m \u001b[0;34m=\u001b[0m \u001b[0;34m\" \"\u001b[0m\u001b[0;34m\u001b[0m\u001b[0;34m\u001b[0m\u001b[0m\n\u001b[1;32m     38\u001b[0m                     \u001b[0mbest_score\u001b[0m \u001b[0;34m=\u001b[0m \u001b[0mmin\u001b[0m\u001b[0;34m(\u001b[0m\u001b[0mscore\u001b[0m\u001b[0;34m,\u001b[0m \u001b[0mbest_score\u001b[0m\u001b[0;34m)\u001b[0m\u001b[0;34m\u001b[0m\u001b[0;34m\u001b[0m\u001b[0m\n",
            "\u001b[0;32m<ipython-input-25-d12622291ca2>\u001b[0m in \u001b[0;36mminimax_6x6\u001b[0;34m(board, depth, is_maximizing, analizeaza_tabla)\u001b[0m\n\u001b[1;32m     22\u001b[0m         \u001b[0;32mfor\u001b[0m \u001b[0mrow\u001b[0m \u001b[0;32min\u001b[0m \u001b[0mrange\u001b[0m\u001b[0;34m(\u001b[0m\u001b[0;36m8\u001b[0m\u001b[0;34m)\u001b[0m\u001b[0;34m:\u001b[0m\u001b[0;34m\u001b[0m\u001b[0;34m\u001b[0m\u001b[0m\n\u001b[1;32m     23\u001b[0m             \u001b[0;32mfor\u001b[0m \u001b[0mcol\u001b[0m \u001b[0;32min\u001b[0m \u001b[0mrange\u001b[0m\u001b[0;34m(\u001b[0m\u001b[0;36m8\u001b[0m\u001b[0;34m)\u001b[0m\u001b[0;34m:\u001b[0m\u001b[0;34m\u001b[0m\u001b[0;34m\u001b[0m\u001b[0m\n\u001b[0;32m---> 24\u001b[0;31m                 \u001b[0;32mif\u001b[0m \u001b[0mboard\u001b[0m\u001b[0;34m[\u001b[0m\u001b[0mrow\u001b[0m\u001b[0;34m]\u001b[0m\u001b[0;34m[\u001b[0m\u001b[0mcol\u001b[0m\u001b[0;34m]\u001b[0m \u001b[0;34m==\u001b[0m \u001b[0;34m\" \"\u001b[0m\u001b[0;34m:\u001b[0m\u001b[0;34m\u001b[0m\u001b[0;34m\u001b[0m\u001b[0m\n\u001b[0m\u001b[1;32m     25\u001b[0m                     \u001b[0mboard\u001b[0m\u001b[0;34m[\u001b[0m\u001b[0mrow\u001b[0m\u001b[0;34m]\u001b[0m\u001b[0;34m[\u001b[0m\u001b[0mcol\u001b[0m\u001b[0;34m]\u001b[0m \u001b[0;34m=\u001b[0m \u001b[0;34m\"O\"\u001b[0m  \u001b[0;31m# AI face mutarea.\u001b[0m\u001b[0;34m\u001b[0m\u001b[0;34m\u001b[0m\u001b[0m\n\u001b[1;32m     26\u001b[0m                     \u001b[0mscore\u001b[0m \u001b[0;34m=\u001b[0m \u001b[0mminimax_6x6\u001b[0m\u001b[0;34m(\u001b[0m\u001b[0mboard\u001b[0m\u001b[0;34m,\u001b[0m \u001b[0mdepth\u001b[0m \u001b[0;34m-\u001b[0m \u001b[0;36m1\u001b[0m\u001b[0;34m,\u001b[0m \u001b[0;32mFalse\u001b[0m\u001b[0;34m,\u001b[0m \u001b[0manalizeaza_tabla\u001b[0m\u001b[0;34m)\u001b[0m\u001b[0;34m\u001b[0m\u001b[0;34m\u001b[0m\u001b[0m\n",
            "\u001b[0;31mIndexError\u001b[0m: list index out of range"
          ]
        }
      ]
    }
  ]
}